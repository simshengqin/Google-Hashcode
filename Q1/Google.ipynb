{
 "cells": [
  {
   "cell_type": "code",
   "execution_count": 9,
   "metadata": {},
   "outputs": [
    {
     "name": "stdout",
     "output_type": "stream",
     "text": [
      "1 rue-d-athenes\n",
      "2 rue-de-moscou\n",
      "0 rue-de-londres\n",
      "--\n",
      "0 rue-de-londres\n",
      "1 rue-d-amsterdam\n",
      "2 rue-de-moscou\n",
      "3 rue-de-rome\n",
      "--\n",
      "{'1': [('rue-d-athenes', 1)], '2': [('rue-de-moscou', 1)], '0': [('rue-de-londres', 1)], '3': [('rue-de-rome', 1)]}\n"
     ]
    },
    {
     "data": {
      "text/plain": [
       "[4,\n",
       " '1',\n",
       " 1,\n",
       " 'rue-d-athenes 1',\n",
       " '2',\n",
       " 1,\n",
       " 'rue-de-moscou 1',\n",
       " '0',\n",
       " 1,\n",
       " 'rue-de-londres 1',\n",
       " '3',\n",
       " 1,\n",
       " 'rue-de-rome 1']"
      ]
     },
     "execution_count": 9,
     "metadata": {},
     "output_type": "execute_result"
    }
   ],
   "source": [
    "# Python code to sort the lists using the second element of sublists \n",
    "# Inplace way to sort, use of third variable \n",
    "def Sort(sub_li): \n",
    "    l = len(sub_li) \n",
    "    for i in range(0, l): \n",
    "        for j in range(0, l-i-1): \n",
    "            if (sub_li[j][1] > sub_li[j + 1][1]): \n",
    "                tempo = sub_li[j] \n",
    "                sub_li[j]= sub_li[j + 1] \n",
    "                sub_li[j + 1]= tempo \n",
    "    return sub_li \n",
    "\n",
    "import sys\n",
    "import math\n",
    "file1 = open(\"real/a.txt\", 'r')\n",
    "[D,I,S,V,F] =  list(map(int, file1.readline().split()))\n",
    "intersections = {}\n",
    "cars = []\n",
    "\n",
    "\n",
    "for i in range(S):\n",
    "    [B,E,street_name,L] =  list(file1.readline().split())\n",
    "    intersections[street_name] = [B,E,L]\n",
    "    \n",
    "for i in range(V):\n",
    "    # for each car\n",
    "    arr =  list(file1.readline().split())\n",
    "    cars.append(arr)\n",
    "    time_needed = 0\n",
    "    for j in range(2, int(arr[0]) + 1):\n",
    "        # the path of the car\n",
    "        road = arr[j]\n",
    "        time_needed += int(intersections[road][2])\n",
    "    arr.insert(1,time_needed)\n",
    "\n",
    "cars = Sort(cars)\n",
    "schedule = {} # intersection: [(street,seconds), (street,seconds)]\n",
    "\n",
    "for i in range(V):\n",
    "    # prioritise cars with shortest travel first\n",
    "    arr = cars[i]\n",
    "    current_time = 0\n",
    "    \n",
    "    for j in range(2, len(arr)):\n",
    "        streetname = arr[j]\n",
    "        intersection = intersections[streetname][1]\n",
    "        print(intersection, streetname)\n",
    "        if intersection not in schedule:\n",
    "            schedule[intersection] = [(streetname, 1)]\n",
    "            \n",
    "        \n",
    "    print(\"--\")\n",
    "    \n",
    "print(schedule)\n",
    "\n",
    "## print result\n",
    "result = []\n",
    "result.append(len(schedule))\n",
    "for key, value in schedule.items():\n",
    "    result.append(key)\n",
    "    result.append(len(value))\n",
    "    for street, second in value:\n",
    "        result.append(street + \" \" + str(second))\n",
    "\n",
    "result"
   ]
  },
  {
   "cell_type": "code",
   "execution_count": 10,
   "metadata": {},
   "outputs": [
    {
     "name": "stdout",
     "output_type": "stream",
     "text": [
      "4\n",
      "1\n",
      "1\n",
      "rue-d-athenes 1\n",
      "2\n",
      "1\n",
      "rue-de-moscou 1\n",
      "0\n",
      "1\n",
      "rue-de-londres 1\n",
      "3\n",
      "1\n",
      "rue-de-rome 1\n"
     ]
    }
   ],
   "source": [
    "for i in result:\n",
    "    print(i)"
   ]
  },
  {
   "cell_type": "code",
   "execution_count": null,
   "metadata": {},
   "outputs": [],
   "source": []
  }
 ],
 "metadata": {
  "kernelspec": {
   "display_name": "Python 3",
   "language": "python",
   "name": "python3"
  },
  "language_info": {
   "codemirror_mode": {
    "name": "ipython",
    "version": 3
   },
   "file_extension": ".py",
   "mimetype": "text/x-python",
   "name": "python",
   "nbconvert_exporter": "python",
   "pygments_lexer": "ipython3",
   "version": "3.6.9"
  }
 },
 "nbformat": 4,
 "nbformat_minor": 2
}
