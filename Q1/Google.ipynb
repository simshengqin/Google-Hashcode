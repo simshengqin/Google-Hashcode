{
 "cells": [
  {
   "cell_type": "code",
   "execution_count": 6,
   "metadata": {},
   "outputs": [
    {
     "name": "stdout",
     "output_type": "stream",
     "text": [
      "5 1 2 1\n",
      "[('3', 'onion', 'pepper', 'olive'), ('3', 'mushroom', 'tomato', 'basil'), ('3', 'chicken', 'mushroom', 'pepper'), ('3', 'tomato', 'mushroom', 'basil'), ('2', 'chicken', 'basil')]\n",
      "[[3, (0, 0)], [6, (0, 1)], [5, (0, 2)], [6, (0, 3)], [5, (0, 4)], [3, (1, 1)], [5, (1, 2)], [3, (1, 3)], [4, (1, 4)], [3, (2, 2)], [5, (2, 3)], [4, (2, 4)], [3, (3, 3)], [4, (3, 4)], [2, (4, 4)]]\n",
      "\n",
      "\n",
      "[[3, (0, 0, 0)], [6, (0, 0, 1)], [5, (0, 0, 2)], [6, (0, 0, 3)], [5, (0, 0, 4)], [6, (0, 1, 1)], [7, (0, 1, 2)], [6, (0, 1, 3)], [7, (0, 1, 4)], [5, (0, 2, 2)], [7, (0, 2, 3)], [6, (0, 2, 4)], [6, (0, 3, 3)], [7, (0, 3, 4)], [5, (0, 4, 4)], [3, (1, 1, 1)], [5, (1, 1, 2)], [3, (1, 1, 3)], [4, (1, 1, 4)], [5, (1, 2, 2)], [5, (1, 2, 3)], [5, (1, 2, 4)], [3, (1, 3, 3)], [4, (1, 3, 4)], [4, (1, 4, 4)], [3, (2, 2, 2)], [5, (2, 2, 3)], [4, (2, 2, 4)], [5, (2, 3, 3)], [5, (2, 3, 4)], [4, (2, 4, 4)], [3, (3, 3, 3)], [4, (3, 3, 4)], [4, (3, 4, 4)], [2, (4, 4, 4)]]\n",
      "\n",
      "\n",
      "[[3, (0, 0, 0, 0)], [6, (0, 0, 0, 1)], [5, (0, 0, 0, 2)], [6, (0, 0, 0, 3)], [5, (0, 0, 0, 4)], [6, (0, 0, 1, 1)], [7, (0, 0, 1, 2)], [6, (0, 0, 1, 3)], [7, (0, 0, 1, 4)], [5, (0, 0, 2, 2)], [7, (0, 0, 2, 3)], [6, (0, 0, 2, 4)], [6, (0, 0, 3, 3)], [7, (0, 0, 3, 4)], [5, (0, 0, 4, 4)], [6, (0, 1, 1, 1)], [7, (0, 1, 1, 2)], [6, (0, 1, 1, 3)], [7, (0, 1, 1, 4)], [7, (0, 1, 2, 2)], [7, (0, 1, 2, 3)], [7, (0, 1, 2, 4)], [6, (0, 1, 3, 3)], [7, (0, 1, 3, 4)], [7, (0, 1, 4, 4)], [5, (0, 2, 2, 2)], [7, (0, 2, 2, 3)], [6, (0, 2, 2, 4)], [7, (0, 2, 3, 3)], [7, (0, 2, 3, 4)], [6, (0, 2, 4, 4)], [6, (0, 3, 3, 3)], [7, (0, 3, 3, 4)], [7, (0, 3, 4, 4)], [5, (0, 4, 4, 4)], [3, (1, 1, 1, 1)], [5, (1, 1, 1, 2)], [3, (1, 1, 1, 3)], [4, (1, 1, 1, 4)], [5, (1, 1, 2, 2)], [5, (1, 1, 2, 3)], [5, (1, 1, 2, 4)], [3, (1, 1, 3, 3)], [4, (1, 1, 3, 4)], [4, (1, 1, 4, 4)], [5, (1, 2, 2, 2)], [5, (1, 2, 2, 3)], [5, (1, 2, 2, 4)], [5, (1, 2, 3, 3)], [5, (1, 2, 3, 4)], [5, (1, 2, 4, 4)], [3, (1, 3, 3, 3)], [4, (1, 3, 3, 4)], [4, (1, 3, 4, 4)], [4, (1, 4, 4, 4)], [3, (2, 2, 2, 2)], [5, (2, 2, 2, 3)], [4, (2, 2, 2, 4)], [5, (2, 2, 3, 3)], [5, (2, 2, 3, 4)], [4, (2, 2, 4, 4)], [5, (2, 3, 3, 3)], [5, (2, 3, 3, 4)], [5, (2, 3, 4, 4)], [4, (2, 4, 4, 4)], [3, (3, 3, 3, 3)], [4, (3, 3, 3, 4)], [4, (3, 3, 4, 4)], [4, (3, 4, 4, 4)], [2, (4, 4, 4, 4)]]\n",
      "\n",
      "\n"
     ]
    }
   ],
   "source": [
    "import sys\n",
    "import math\n",
    "sys.stdin = open('a_example', 'r')\n",
    "[M, T2, T3, T4] =  list(map(int, sys.stdin.readline().split()))\n",
    "print(M,T2,T3,T4)\n",
    "pizzas = []\n",
    "for i in range(M):\n",
    "    pizzas.append(tuple(sys.stdin.readline().split()))\n",
    "two_combi = []\n",
    "for i in range(len(pizzas)):\n",
    "    for j in range(i, len(pizzas)):\n",
    "        #if i != j:\n",
    "            pizza1 = pizzas[i]\n",
    "            pizza2 = pizzas[j]\n",
    "            two_combi.append([len(set(pizza1[1:] + pizza2[1:])),(i, j)])\n",
    "three_combi = []\n",
    "for i in range(len(pizzas)):\n",
    "    for j in range(i, len(pizzas)):\n",
    "        for k in range(j, len(pizzas)):\n",
    "            # if i != j and j!= k and i != k:\n",
    "            pizza1 = pizzas[i]\n",
    "            pizza2 = pizzas[j]\n",
    "            pizza3 = pizzas[k]\n",
    "            three_combi.append([len(set(pizza1[1:] + pizza2[1:] + pizza3[1:])),(i, j, k)])\n",
    "four_combi = []\n",
    "for i in range(len(pizzas)):\n",
    "    for j in range(i, len(pizzas)):\n",
    "        for k in range(j, len(pizzas)):\n",
    "            for x in range(k, len(pizzas)):\n",
    "                pizza1 = pizzas[i]\n",
    "                pizza2 = pizzas[j]\n",
    "                pizza3 = pizzas[k]\n",
    "                pizza4 = pizzas[x]\n",
    "                four_combi.append([len(set(pizza1[1:] + pizza2[1:] + pizza3[1:] + pizza4[1:])),(i, j, k, x)])\n",
    "print(pizzas)\n",
    "print(two_combi)\n",
    "print()\n",
    "print()\n",
    "print(three_combi)\n",
    "print()\n",
    "print()\n",
    "print(four_combi)\n",
    "print()\n",
    "print()"
   ]
  },
  {
   "cell_type": "code",
   "execution_count": null,
   "metadata": {},
   "outputs": [],
   "source": []
  }
 ],
 "metadata": {
  "kernelspec": {
   "display_name": "Python 3",
   "language": "python",
   "name": "python3"
  },
  "language_info": {
   "codemirror_mode": {
    "name": "ipython",
    "version": 3
   },
   "file_extension": ".py",
   "mimetype": "text/x-python",
   "name": "python",
   "nbconvert_exporter": "python",
   "pygments_lexer": "ipython3",
   "version": "3.6.9"
  }
 },
 "nbformat": 4,
 "nbformat_minor": 2
}
